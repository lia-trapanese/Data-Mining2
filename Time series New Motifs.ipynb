{
 "cells": [
  {
   "cell_type": "code",
   "execution_count": 1,
   "id": "adolescent-assault",
   "metadata": {},
   "outputs": [],
   "source": [
    "import pandas as pd\n",
    "import numpy as np\n",
    "import matplotlib.pyplot as plt\n",
    "import seaborn as sns\n",
    "import pickle\n",
    "import os "
   ]
  },
  {
   "cell_type": "code",
   "execution_count": 2,
   "id": "minor-portfolio",
   "metadata": {},
   "outputs": [],
   "source": [
    "datset= pd.read_csv(r\"\\Users\\Utente\\Desktop\\Università\\Pisa\\Secondo semestre - Secondo anno\\Data Mining 2\\progetto\\UCI HAR Dataset\\UCI HAR Dataset\\train\\Inertial Signals\\body_acc_x_train.txt\",delimiter=r\"\\s+\",  header=None)"
   ]
  },
  {
   "cell_type": "code",
   "execution_count": 3,
   "id": "civic-relationship",
   "metadata": {},
   "outputs": [],
   "source": [
    "df_ts = pd.read_pickle(\"./df_ts.pkl\")\n",
    "df_test_ts = pd.read_pickle(\"./df_ts_test.pkl\")"
   ]
  },
  {
   "cell_type": "code",
   "execution_count": 4,
   "id": "thirty-triple",
   "metadata": {},
   "outputs": [
    {
     "data": {
      "text/html": [
       "<div>\n",
       "<style scoped>\n",
       "    .dataframe tbody tr th:only-of-type {\n",
       "        vertical-align: middle;\n",
       "    }\n",
       "\n",
       "    .dataframe tbody tr th {\n",
       "        vertical-align: top;\n",
       "    }\n",
       "\n",
       "    .dataframe thead th {\n",
       "        text-align: right;\n",
       "    }\n",
       "</style>\n",
       "<table border=\"1\" class=\"dataframe\">\n",
       "  <thead>\n",
       "    <tr style=\"text-align: right;\">\n",
       "      <th></th>\n",
       "      <th>body_x</th>\n",
       "      <th>body_y</th>\n",
       "      <th>body_z</th>\n",
       "      <th>gyro_x</th>\n",
       "      <th>gyro_y</th>\n",
       "      <th>gyro_z</th>\n",
       "      <th>subject</th>\n",
       "      <th>activity</th>\n",
       "    </tr>\n",
       "  </thead>\n",
       "  <tbody>\n",
       "    <tr>\n",
       "      <th>0</th>\n",
       "      <td>[0.3767984, 0.3820639, 0.119208, -0.2899142, -...</td>\n",
       "      <td>[-0.07615856, -0.09193956, 0.04778273, 0.15049...</td>\n",
       "      <td>[-0.01594575, -0.1020025, -0.05738191, -0.0663...</td>\n",
       "      <td>[-0.5624105, -0.5068743, -0.7771669, -1.317128...</td>\n",
       "      <td>[0.975277, 1.613873, 0.8407163, -0.317289, -0....</td>\n",
       "      <td>[0.2787811, 0.1157149, -0.1098379, 0.09024409,...</td>\n",
       "      <td>1</td>\n",
       "      <td>WALKING</td>\n",
       "    </tr>\n",
       "    <tr>\n",
       "      <th>1</th>\n",
       "      <td>[-0.08881959, -0.1151428, -0.1522331, -0.16081...</td>\n",
       "      <td>[-0.05260389, -0.006149942, 0.04900373, 0.0617...</td>\n",
       "      <td>[0.1089787, 0.1146377, 0.1304551, 0.1548021, 0...</td>\n",
       "      <td>[0.379767, 0.3878029, 0.3784668, 0.3274898, 0....</td>\n",
       "      <td>[0.6916201, 0.7338988, 0.7673131, 0.6688538, 0...</td>\n",
       "      <td>[0.03231439, -0.02200011, -0.06834814, -0.0575...</td>\n",
       "      <td>1</td>\n",
       "      <td>WALKING_UPSTAIRS</td>\n",
       "    </tr>\n",
       "    <tr>\n",
       "      <th>2</th>\n",
       "      <td>[-0.2155845, -0.207075, -0.1821384, -0.1427411...</td>\n",
       "      <td>[0.05320855, -0.01513074, -0.02538666, 0.01346...</td>\n",
       "      <td>[0.0178802, -0.02187651, -0.0008303998, -0.002...</td>\n",
       "      <td>[0.2202674, 0.3322385, 0.4420194, 0.4824141, 0...</td>\n",
       "      <td>[0.159655, 0.2812229, 0.3379647, 0.2390217, 0....</td>\n",
       "      <td>[0.01094215, 0.02547416, 0.01092202, 0.0177640...</td>\n",
       "      <td>1</td>\n",
       "      <td>WALKING_DOWNSTAIRS</td>\n",
       "    </tr>\n",
       "    <tr>\n",
       "      <th>3</th>\n",
       "      <td>[-0.08885533, -0.08666822, -0.08796819, -0.085...</td>\n",
       "      <td>[0.3491606, 0.3527503, 0.3613176, 0.3744291, 0...</td>\n",
       "      <td>[0.2920406, 0.2845418, 0.2828897, 0.2825882, 0...</td>\n",
       "      <td>[0.05853499, 0.06523332, 0.07282671, 0.0639263...</td>\n",
       "      <td>[0.03468009, 0.0124743, -0.03566388, -0.057899...</td>\n",
       "      <td>[-0.1154221, -0.1179507, -0.1149668, -0.109188...</td>\n",
       "      <td>1</td>\n",
       "      <td>SITTING</td>\n",
       "    </tr>\n",
       "    <tr>\n",
       "      <th>4</th>\n",
       "      <td>[0.0001808515, 0.01013856, 0.009275574, 0.0050...</td>\n",
       "      <td>[0.01076681, 0.00657948, 0.008928878, 0.007488...</td>\n",
       "      <td>[0.05556068, 0.05512483, 0.04840473, 0.0497749...</td>\n",
       "      <td>[0.03019122, 0.04371071, 0.0356878, 0.0404021,...</td>\n",
       "      <td>[0.06601362, 0.04269897, 0.07485018, 0.0573197...</td>\n",
       "      <td>[0.02285864, 0.01031572, 0.01324969, 0.0177512...</td>\n",
       "      <td>1</td>\n",
       "      <td>STANDING</td>\n",
       "    </tr>\n",
       "    <tr>\n",
       "      <th>...</th>\n",
       "      <td>...</td>\n",
       "      <td>...</td>\n",
       "      <td>...</td>\n",
       "      <td>...</td>\n",
       "      <td>...</td>\n",
       "      <td>...</td>\n",
       "      <td>...</td>\n",
       "      <td>...</td>\n",
       "    </tr>\n",
       "    <tr>\n",
       "      <th>100</th>\n",
       "      <td>[-0.2056145, -0.2610236, -0.2721646, -0.272464...</td>\n",
       "      <td>[-0.04162483, -0.02775267, -0.03574828, -0.035...</td>\n",
       "      <td>[0.1334201, 0.1435552, 0.143089, 0.1610788, 0....</td>\n",
       "      <td>[0.1002978, 0.03116869, -0.00367747, 0.0266553...</td>\n",
       "      <td>[0.8548481, 0.7195973, 0.5228794, 0.1387529, -...</td>\n",
       "      <td>[-0.02994659, 0.02322512, 0.1121064, 0.1520975...</td>\n",
       "      <td>30</td>\n",
       "      <td>WALKING</td>\n",
       "    </tr>\n",
       "    <tr>\n",
       "      <th>101</th>\n",
       "      <td>[0.008258519, 0.0110812, 0.01652231, 0.0251404...</td>\n",
       "      <td>[0.2786442, 0.2649979, 0.2716955, 0.2599178, 0...</td>\n",
       "      <td>[0.07746708, 0.07492045, 0.0580958, 0.03495829...</td>\n",
       "      <td>[0.664576, 0.6032189, 0.52785, 0.5136015, 0.51...</td>\n",
       "      <td>[-0.3807465, -0.3433203, -0.3201531, -0.297911...</td>\n",
       "      <td>[-0.01962658, 0.03492375, 0.1534728, 0.2371735...</td>\n",
       "      <td>30</td>\n",
       "      <td>WALKING_UPSTAIRS</td>\n",
       "    </tr>\n",
       "    <tr>\n",
       "      <th>102</th>\n",
       "      <td>[-0.09224173, -0.1235183, -0.1432697, -0.15384...</td>\n",
       "      <td>[0.1817281, 0.1391338, 0.08407567, 0.08017544,...</td>\n",
       "      <td>[-0.06889384, -0.04270107, -0.01054449, 0.0086...</td>\n",
       "      <td>[-0.287722, -0.3286186, -0.2297837, -0.1488549...</td>\n",
       "      <td>[0.3856957, 0.4106893, 0.3869054, 0.308527, 0....</td>\n",
       "      <td>[0.04400377, 0.07412732, 0.07090996, 0.0386945...</td>\n",
       "      <td>30</td>\n",
       "      <td>WALKING_DOWNSTAIRS</td>\n",
       "    </tr>\n",
       "    <tr>\n",
       "      <th>103</th>\n",
       "      <td>[-0.03565454, -0.03324404, -0.0297281, -0.0297...</td>\n",
       "      <td>[0.1387171, 0.1366379, 0.1317901, 0.127761, 0....</td>\n",
       "      <td>[0.1693367, 0.1664923, 0.1580989, 0.1589778, 0...</td>\n",
       "      <td>[0.01904884, 0.02136498, 0.02647005, 0.0216551...</td>\n",
       "      <td>[0.06446733, 0.05345038, 0.03948838, 0.0257987...</td>\n",
       "      <td>[-0.01691631, 0.002576102, 0.01372988, 0.01367...</td>\n",
       "      <td>30</td>\n",
       "      <td>SITTING</td>\n",
       "    </tr>\n",
       "    <tr>\n",
       "      <th>104</th>\n",
       "      <td>[-0.02618468, -0.04788432, -0.01599534, 0.0247...</td>\n",
       "      <td>[-0.009947129, 0.009982277, 0.03010616, 0.0226...</td>\n",
       "      <td>[0.07750872, 0.08077391, 0.06774295, 0.0314325...</td>\n",
       "      <td>[0.06566796, 0.05437979, 0.02525296, 0.0236206...</td>\n",
       "      <td>[-0.1306373, -0.06783235, 0.03032944, 0.146739...</td>\n",
       "      <td>[0.0680646, 0.03402538, 0.03486918, 0.055952, ...</td>\n",
       "      <td>30</td>\n",
       "      <td>STANDING</td>\n",
       "    </tr>\n",
       "  </tbody>\n",
       "</table>\n",
       "<p>105 rows × 8 columns</p>\n",
       "</div>"
      ],
      "text/plain": [
       "                                                body_x  \\\n",
       "0    [0.3767984, 0.3820639, 0.119208, -0.2899142, -...   \n",
       "1    [-0.08881959, -0.1151428, -0.1522331, -0.16081...   \n",
       "2    [-0.2155845, -0.207075, -0.1821384, -0.1427411...   \n",
       "3    [-0.08885533, -0.08666822, -0.08796819, -0.085...   \n",
       "4    [0.0001808515, 0.01013856, 0.009275574, 0.0050...   \n",
       "..                                                 ...   \n",
       "100  [-0.2056145, -0.2610236, -0.2721646, -0.272464...   \n",
       "101  [0.008258519, 0.0110812, 0.01652231, 0.0251404...   \n",
       "102  [-0.09224173, -0.1235183, -0.1432697, -0.15384...   \n",
       "103  [-0.03565454, -0.03324404, -0.0297281, -0.0297...   \n",
       "104  [-0.02618468, -0.04788432, -0.01599534, 0.0247...   \n",
       "\n",
       "                                                body_y  \\\n",
       "0    [-0.07615856, -0.09193956, 0.04778273, 0.15049...   \n",
       "1    [-0.05260389, -0.006149942, 0.04900373, 0.0617...   \n",
       "2    [0.05320855, -0.01513074, -0.02538666, 0.01346...   \n",
       "3    [0.3491606, 0.3527503, 0.3613176, 0.3744291, 0...   \n",
       "4    [0.01076681, 0.00657948, 0.008928878, 0.007488...   \n",
       "..                                                 ...   \n",
       "100  [-0.04162483, -0.02775267, -0.03574828, -0.035...   \n",
       "101  [0.2786442, 0.2649979, 0.2716955, 0.2599178, 0...   \n",
       "102  [0.1817281, 0.1391338, 0.08407567, 0.08017544,...   \n",
       "103  [0.1387171, 0.1366379, 0.1317901, 0.127761, 0....   \n",
       "104  [-0.009947129, 0.009982277, 0.03010616, 0.0226...   \n",
       "\n",
       "                                                body_z  \\\n",
       "0    [-0.01594575, -0.1020025, -0.05738191, -0.0663...   \n",
       "1    [0.1089787, 0.1146377, 0.1304551, 0.1548021, 0...   \n",
       "2    [0.0178802, -0.02187651, -0.0008303998, -0.002...   \n",
       "3    [0.2920406, 0.2845418, 0.2828897, 0.2825882, 0...   \n",
       "4    [0.05556068, 0.05512483, 0.04840473, 0.0497749...   \n",
       "..                                                 ...   \n",
       "100  [0.1334201, 0.1435552, 0.143089, 0.1610788, 0....   \n",
       "101  [0.07746708, 0.07492045, 0.0580958, 0.03495829...   \n",
       "102  [-0.06889384, -0.04270107, -0.01054449, 0.0086...   \n",
       "103  [0.1693367, 0.1664923, 0.1580989, 0.1589778, 0...   \n",
       "104  [0.07750872, 0.08077391, 0.06774295, 0.0314325...   \n",
       "\n",
       "                                                gyro_x  \\\n",
       "0    [-0.5624105, -0.5068743, -0.7771669, -1.317128...   \n",
       "1    [0.379767, 0.3878029, 0.3784668, 0.3274898, 0....   \n",
       "2    [0.2202674, 0.3322385, 0.4420194, 0.4824141, 0...   \n",
       "3    [0.05853499, 0.06523332, 0.07282671, 0.0639263...   \n",
       "4    [0.03019122, 0.04371071, 0.0356878, 0.0404021,...   \n",
       "..                                                 ...   \n",
       "100  [0.1002978, 0.03116869, -0.00367747, 0.0266553...   \n",
       "101  [0.664576, 0.6032189, 0.52785, 0.5136015, 0.51...   \n",
       "102  [-0.287722, -0.3286186, -0.2297837, -0.1488549...   \n",
       "103  [0.01904884, 0.02136498, 0.02647005, 0.0216551...   \n",
       "104  [0.06566796, 0.05437979, 0.02525296, 0.0236206...   \n",
       "\n",
       "                                                gyro_y  \\\n",
       "0    [0.975277, 1.613873, 0.8407163, -0.317289, -0....   \n",
       "1    [0.6916201, 0.7338988, 0.7673131, 0.6688538, 0...   \n",
       "2    [0.159655, 0.2812229, 0.3379647, 0.2390217, 0....   \n",
       "3    [0.03468009, 0.0124743, -0.03566388, -0.057899...   \n",
       "4    [0.06601362, 0.04269897, 0.07485018, 0.0573197...   \n",
       "..                                                 ...   \n",
       "100  [0.8548481, 0.7195973, 0.5228794, 0.1387529, -...   \n",
       "101  [-0.3807465, -0.3433203, -0.3201531, -0.297911...   \n",
       "102  [0.3856957, 0.4106893, 0.3869054, 0.308527, 0....   \n",
       "103  [0.06446733, 0.05345038, 0.03948838, 0.0257987...   \n",
       "104  [-0.1306373, -0.06783235, 0.03032944, 0.146739...   \n",
       "\n",
       "                                                gyro_z  subject  \\\n",
       "0    [0.2787811, 0.1157149, -0.1098379, 0.09024409,...        1   \n",
       "1    [0.03231439, -0.02200011, -0.06834814, -0.0575...        1   \n",
       "2    [0.01094215, 0.02547416, 0.01092202, 0.0177640...        1   \n",
       "3    [-0.1154221, -0.1179507, -0.1149668, -0.109188...        1   \n",
       "4    [0.02285864, 0.01031572, 0.01324969, 0.0177512...        1   \n",
       "..                                                 ...      ...   \n",
       "100  [-0.02994659, 0.02322512, 0.1121064, 0.1520975...       30   \n",
       "101  [-0.01962658, 0.03492375, 0.1534728, 0.2371735...       30   \n",
       "102  [0.04400377, 0.07412732, 0.07090996, 0.0386945...       30   \n",
       "103  [-0.01691631, 0.002576102, 0.01372988, 0.01367...       30   \n",
       "104  [0.0680646, 0.03402538, 0.03486918, 0.055952, ...       30   \n",
       "\n",
       "               activity  \n",
       "0               WALKING  \n",
       "1      WALKING_UPSTAIRS  \n",
       "2    WALKING_DOWNSTAIRS  \n",
       "3               SITTING  \n",
       "4              STANDING  \n",
       "..                  ...  \n",
       "100             WALKING  \n",
       "101    WALKING_UPSTAIRS  \n",
       "102  WALKING_DOWNSTAIRS  \n",
       "103             SITTING  \n",
       "104            STANDING  \n",
       "\n",
       "[105 rows x 8 columns]"
      ]
     },
     "execution_count": 4,
     "metadata": {},
     "output_type": "execute_result"
    }
   ],
   "source": [
    "df_ts"
   ]
  },
  {
   "cell_type": "code",
   "execution_count": 5,
   "id": "abroad-montgomery",
   "metadata": {},
   "outputs": [
    {
     "data": {
      "text/plain": [
       "3392"
      ]
     },
     "execution_count": 5,
     "metadata": {},
     "output_type": "execute_result"
    }
   ],
   "source": [
    "len(df_ts['gyro_y'].iloc[1])"
   ]
  },
  {
   "cell_type": "code",
   "execution_count": null,
   "id": "awful-classics",
   "metadata": {},
   "outputs": [],
   "source": [
    "subj = df_ts.loc[df_ts['activity']=='WALKING']['subject'].values"
   ]
  },
  {
   "cell_type": "code",
   "execution_count": null,
   "id": "legitimate-virtue",
   "metadata": {},
   "outputs": [],
   "source": [
    "#for arr in df_ts['body_x']:\n",
    "    #print (arr.shape)"
   ]
  },
  {
   "cell_type": "code",
   "execution_count": null,
   "id": "french-vietnam",
   "metadata": {},
   "outputs": [],
   "source": [
    "ts_walking_val_bx = df_ts.loc[df_ts['activity']=='WALKING']['body_x'].values\n",
    "ts_walking_ind_bx = df_ts.loc[df_ts['activity']=='WALKING']['body_x'].index\n",
    "\n",
    "ts_walkingup_val_bx = df_ts.loc[df_ts['activity']=='WALKING_UPSTAIRS']['body_x'].values\n",
    "ts_walkingup_ind_bx = df_ts.loc[df_ts['activity']=='WALKING_UPSTAIRS']['body_x'].index\n",
    "\n",
    "ts_walkingdown_val_bx = df_ts.loc[df_ts['activity']=='WALKING_DOWNSTAIRS']['body_x'].values\n",
    "ts_walkingdown_ind_bx = df_ts.loc[df_ts['activity']=='WALKING_DOWNSTAIRS']['body_x'].index\n",
    "\n",
    "ts_sitting_val_bx = df_ts.loc[df_ts['activity']=='SITTING']['body_x'].values\n",
    "ts_sitting_ind_bx = df_ts.loc[df_ts['activity']=='SITTING']['body_x'].index\n",
    "\n",
    "ts_standing_val_bx = df_ts.loc[df_ts['activity']=='STANDING']['body_x'].values\n",
    "ts_standing_ind_bx = df_ts.loc[df_ts['activity']=='STANDING']['body_x'].index"
   ]
  },
  {
   "cell_type": "markdown",
   "id": "static-designer",
   "metadata": {},
   "source": [
    "# Matrix Profile 'body_x' e Motifs "
   ]
  },
  {
   "cell_type": "code",
   "execution_count": 7,
   "id": "social-appearance",
   "metadata": {},
   "outputs": [
    {
     "ename": "NameError",
     "evalue": "name 'ts_standing_val_bx' is not defined",
     "output_type": "error",
     "traceback": [
      "\u001b[1;31m---------------------------------------------------------------------------\u001b[0m",
      "\u001b[1;31mNameError\u001b[0m                                 Traceback (most recent call last)",
      "\u001b[1;32m<ipython-input-7-2386011b7a6b>\u001b[0m in \u001b[0;36m<module>\u001b[1;34m\u001b[0m\n\u001b[0;32m      1\u001b[0m \u001b[0mts_array\u001b[0m \u001b[1;33m=\u001b[0m \u001b[1;33m[\u001b[0m\u001b[1;33m]\u001b[0m\u001b[1;33m\u001b[0m\u001b[1;33m\u001b[0m\u001b[0m\n\u001b[1;32m----> 2\u001b[1;33m \u001b[1;32mfor\u001b[0m \u001b[0mtimeseries\u001b[0m \u001b[1;32min\u001b[0m \u001b[0mts_standing_val_bx\u001b[0m\u001b[1;33m:\u001b[0m\u001b[1;33m\u001b[0m\u001b[1;33m\u001b[0m\u001b[0m\n\u001b[0m\u001b[0;32m      3\u001b[0m     \u001b[0mts_array\u001b[0m\u001b[1;33m.\u001b[0m\u001b[0mappend\u001b[0m\u001b[1;33m(\u001b[0m\u001b[0mtimeseries\u001b[0m\u001b[1;33m[\u001b[0m\u001b[1;36m2000\u001b[0m\u001b[1;33m:\u001b[0m\u001b[1;36m2500\u001b[0m\u001b[1;33m]\u001b[0m\u001b[1;33m)\u001b[0m\u001b[1;33m\u001b[0m\u001b[1;33m\u001b[0m\u001b[0m\n\u001b[0;32m      4\u001b[0m \u001b[1;33m\u001b[0m\u001b[0m\n\u001b[0;32m      5\u001b[0m \u001b[1;32mfrom\u001b[0m \u001b[0mmatrixprofile\u001b[0m \u001b[1;32mimport\u001b[0m \u001b[1;33m*\u001b[0m\u001b[1;33m\u001b[0m\u001b[1;33m\u001b[0m\u001b[0m\n",
      "\u001b[1;31mNameError\u001b[0m: name 'ts_standing_val_bx' is not defined"
     ]
    }
   ],
   "source": [
    "ts_array = []\n",
    "for timeseries in ts_standing_val_bx:\n",
    "    ts_array.append(timeseries[2000:2500])\n",
    "\n",
    "from matrixprofile import *\n",
    "\n",
    "mp_walk = []\n",
    "mpi_walk = []\n",
    "\n",
    "for val, idd,sub in zip(ts_array, ts_standing_ind_bx, subj):\n",
    "    plt.figure(figsize=(12,1))\n",
    "    w = 10\n",
    "    mpw, mpiw = matrixProfile.stomp(val, w)\n",
    "    mp_walk.append(mpw)\n",
    "    mpi_walk.append(mpiw)\n",
    "    plt.title(\"BODY_X Walking upstairs SUBJ {} \".format(sub))\n",
    "    plt.xlabel('frequency [Hz]')\n",
    "    plt.plot(mpw)\n",
    "    plt.show()\n",
    "    "
   ]
  },
  {
   "cell_type": "code",
   "execution_count": null,
   "id": "brave-height",
   "metadata": {},
   "outputs": [],
   "source": [
    "#Motifs\n",
    "\n",
    "\n",
    "for val, mp, mpi, idd, sub in zip(ts_array, mp_walk, mpi_walk,ts_standing_ind_bx , subj):\n",
    "    mo, mod  = motifs.motifs(val, (mp, mpi), max_motifs=5)\n",
    "    plt.figure(figsize=(12,1))\n",
    "    plt.plot(val,alpha=0.5)\n",
    "    colors = ['#1f77b4', '#ff7f0e', '#2ca02c', '#d62728', '#9467bd', '#8c564b', '#e377c2', '#7f7f7f', '#bcbd22', '#17becf'][:len(mo)]\n",
    "    for m, d, c in zip(mo, mod, colors):\n",
    "        for i in m:\n",
    "            m_shape = val[i:i+w]\n",
    "            plt.title(\"BODY_X Walking upstairs SUBJ {}\".format(sub))\n",
    "            plt.xlabel('frequency [Hz]')\n",
    "            plt.plot(range(i,i+w), m_shape, color=c, lw=2, alpha=1)\n",
    "\n",
    "    plt.show()\n",
    "    "
   ]
  },
  {
   "cell_type": "code",
   "execution_count": null,
   "id": "arbitrary-protest",
   "metadata": {},
   "outputs": [],
   "source": [
    "#var_val"
   ]
  },
  {
   "cell_type": "markdown",
   "id": "protective-window",
   "metadata": {},
   "source": [
    "# Best Motifs"
   ]
  },
  {
   "cell_type": "markdown",
   "id": "working-tension",
   "metadata": {},
   "source": [
    "### Best Motif for walking upstairs "
   ]
  },
  {
   "cell_type": "code",
   "execution_count": null,
   "id": "european-found",
   "metadata": {},
   "outputs": [],
   "source": [
    "plt.figure(figsize=(15,5))\n",
    "plt.plot(ts_array[16])"
   ]
  },
  {
   "cell_type": "code",
   "execution_count": null,
   "id": "arabic-individual",
   "metadata": {},
   "outputs": [],
   "source": [
    "fig, ax = plt.subplots(2, 1,figsize=(15,5))\n",
    "\n",
    "w = 10\n",
    "mp, mpi = matrixProfile.stomp(ts_array[16], w) #motif da scegliere insieme\n",
    "mo, mod  = motifs.motifs(ts_array[16], (mp, mpi), max_motifs=5)\n",
    "\n",
    "ax[0].plot(ts_array[16],alpha=0.7)\n",
    "colors = ['#1f77b4', '#ff7f0e', '#2ca02c', '#d62728', '#9467bd', '#8c564b', '#e377c2', '#7f7f7f', '#bcbd22', '#17becf'][:len(mo)]\n",
    "for m, d, c , sub in zip(mo, mod, colors,subj):\n",
    "    for i in m:\n",
    "        m_shape = ts_array[16][i:i+w]\n",
    "        ax[0].set_title(\"Body_acc_X Motifs - Walking upstairs - subject 26 \")\n",
    "        ax[0].plot(range(i,i+w), m_shape, color=c, lw=2, alpha=0.9)\n",
    "\n",
    "\n",
    "color = 'tab:red'\n",
    "ax[1].set_title('Body_acc_X Matrix Profile - Walking upstairs - subject 26')\n",
    "ax[1].set_xlabel('Frequency [Hz]')\n",
    "ax[1].plot(mp, color=color, alpha=0.8)\n",
    "\n",
    "fig.tight_layout()\n",
    "\n",
    "ax[1].figure.savefig('motifs walking upstairs.pdf', bbox_inches='tight')"
   ]
  },
  {
   "cell_type": "markdown",
   "id": "dated-organ",
   "metadata": {},
   "source": [
    "### Best Motif for standing"
   ]
  },
  {
   "cell_type": "code",
   "execution_count": null,
   "id": "experimental-commission",
   "metadata": {},
   "outputs": [],
   "source": [
    "plt.figure(figsize=(15,5))\n",
    "plt.plot(ts_array[12])"
   ]
  },
  {
   "cell_type": "code",
   "execution_count": 6,
   "id": "prompt-humidity",
   "metadata": {},
   "outputs": [
    {
     "ename": "NameError",
     "evalue": "name 'matrixProfile' is not defined",
     "output_type": "error",
     "traceback": [
      "\u001b[1;31m---------------------------------------------------------------------------\u001b[0m",
      "\u001b[1;31mNameError\u001b[0m                                 Traceback (most recent call last)",
      "\u001b[1;32m<ipython-input-6-9300faa5983d>\u001b[0m in \u001b[0;36m<module>\u001b[1;34m\u001b[0m\n\u001b[0;32m      2\u001b[0m \u001b[1;33m\u001b[0m\u001b[0m\n\u001b[0;32m      3\u001b[0m \u001b[0mw\u001b[0m \u001b[1;33m=\u001b[0m \u001b[1;36m6\u001b[0m\u001b[1;33m\u001b[0m\u001b[1;33m\u001b[0m\u001b[0m\n\u001b[1;32m----> 4\u001b[1;33m \u001b[0mmp\u001b[0m\u001b[1;33m,\u001b[0m \u001b[0mmpi\u001b[0m \u001b[1;33m=\u001b[0m \u001b[0mmatrixProfile\u001b[0m\u001b[1;33m.\u001b[0m\u001b[0mstomp\u001b[0m\u001b[1;33m(\u001b[0m\u001b[0mts_array\u001b[0m\u001b[1;33m[\u001b[0m\u001b[1;36m12\u001b[0m\u001b[1;33m]\u001b[0m\u001b[1;33m,\u001b[0m \u001b[0mw\u001b[0m\u001b[1;33m)\u001b[0m \u001b[1;31m#motif da scegliere insieme\u001b[0m\u001b[1;33m\u001b[0m\u001b[1;33m\u001b[0m\u001b[0m\n\u001b[0m\u001b[0;32m      5\u001b[0m \u001b[0mmo\u001b[0m\u001b[1;33m,\u001b[0m \u001b[0mmod\u001b[0m  \u001b[1;33m=\u001b[0m \u001b[0mmotifs\u001b[0m\u001b[1;33m.\u001b[0m\u001b[0mmotifs\u001b[0m\u001b[1;33m(\u001b[0m\u001b[0mts_array\u001b[0m\u001b[1;33m[\u001b[0m\u001b[1;36m12\u001b[0m\u001b[1;33m]\u001b[0m\u001b[1;33m,\u001b[0m \u001b[1;33m(\u001b[0m\u001b[0mmp\u001b[0m\u001b[1;33m,\u001b[0m \u001b[0mmpi\u001b[0m\u001b[1;33m)\u001b[0m\u001b[1;33m,\u001b[0m \u001b[0mmax_motifs\u001b[0m\u001b[1;33m=\u001b[0m\u001b[1;36m5\u001b[0m\u001b[1;33m)\u001b[0m\u001b[1;33m\u001b[0m\u001b[1;33m\u001b[0m\u001b[0m\n\u001b[0;32m      6\u001b[0m \u001b[1;33m\u001b[0m\u001b[0m\n",
      "\u001b[1;31mNameError\u001b[0m: name 'matrixProfile' is not defined"
     ]
    },
    {
     "data": {
      "image/png": "[encoded data removed]",
      "text/plain": [
       "<Figure size 1080x360 with 2 Axes>"
      ]
     },
     "metadata": {
      "needs_background": "light"
     },
     "output_type": "display_data"
    }
   ],
   "source": [
    "fig, ax = plt.subplots(2, 1,figsize=(15,5))\n",
    "\n",
    "w = 6\n",
    "mp, mpi = matrixProfile.stomp(ts_array[12], w) #motif da scegliere insieme\n",
    "mo, mod  = motifs.motifs(ts_array[12], (mp, mpi), max_motifs=5)\n",
    "\n",
    "ax[0].plot(ts_array[12],alpha=0.7)\n",
    "colors = ['#1f77b4', '#ff7f0e', '#2ca02c', '#d62728', '#9467bd', '#8c564b', '#e377c2', '#7f7f7f', '#bcbd22', '#17becf'][:len(mo)]\n",
    "for m, d, c , sub in zip(mo, mod, colors,subj):\n",
    "    for i in m:\n",
    "        m_shape = ts_array[12][i:i+w]\n",
    "        ax[0].set_title(\"Body_acc_X Motifs - Standing - subject 21 \")\n",
    "        ax[0].plot(range(i,i+w), m_shape, color=c, lw=2, alpha=0.9)\n",
    "\n",
    "\n",
    "color = 'tab:red'\n",
    "ax[1].set_title('Body_acc_X Matrix Profile - Standing - subject 21')\n",
    "ax[1].plot(mp, color=color, alpha=0.8)\n",
    "ax[1].set_xlabel('Frequency Hz')\n",
    "fig.tight_layout()\n",
    "\n",
    "ax[1].figure.savefig('motifs standing.pdf', bbox_inches='tight')"
   ]
  },
  {
   "cell_type": "code",
   "execution_count": null,
   "id": "controlled-namibia",
   "metadata": {},
   "outputs": [],
   "source": [
    "print(' Motifs - Walking upstairs - subject 26 ' )\n",
    "for m, d, c in zip(mo, mod, colors):\n",
    "    for i in m:\n",
    "        m_shape = ts_array[16][i:i+w]\n",
    "        plt.figure(figsize=(0.7,1))\n",
    "        plt.plot(range(i,i+w), m_shape, color=c, lw=3)\n",
    "        plt.xlabel('time stamps')\n",
    "    plt.show()\n",
    "    \n",
    "plt.savefig('mini plot.pdf', bbox_inches='tight' )"
   ]
  },
  {
   "cell_type": "markdown",
   "id": "exciting-membrane",
   "metadata": {},
   "source": [
    "# Anomaly discovery"
   ]
  },
  {
   "cell_type": "code",
   "execution_count": null,
   "id": "taken-toilet",
   "metadata": {},
   "outputs": [],
   "source": [
    "from matrixprofile.discords import discords\n",
    "\n",
    "\n",
    "#Parameters  \n",
    "#- mp: matrix profile numpy array\n",
    "#- k: the number of discords to discover\n",
    "#- ex_zone: the number of samples to exclude and set to Inf on either side of a found discord   \n",
    "\n",
    "\n",
    "#Returns \n",
    "# - a list of indexes represent the discord starting locations.\n",
    "#MaxInt indicates there were no more discords that could be found due to too many exclusions or profile being too small. \n",
    "#Discord start indices are sorted by highest matrix profile value."
   ]
  },
  {
   "cell_type": "code",
   "execution_count": null,
   "id": "willing-vietnamese",
   "metadata": {},
   "outputs": [],
   "source": [
    "for val, mp1, idd , sub in zip(ts_array, mp_walk, ts_walkingup_ind_bx, subj):\n",
    "    anoms = discords(mp, ex_zone=20, k=5)\n",
    "    plt.figure(figsize=(12,1))\n",
    "    plt.title(\"Anomaly walking upstairs subject: {} \".format(sub))\n",
    "    plt.plot(val, alpha=0.6)\n",
    "    plt.xlabel('frequency [Hz]')\n",
    "    colors = ['r', 'g', 'k', 'b', 'y'][:len(anoms)]\n",
    "    for a, c in zip(anoms, colors):\n",
    "        a_shape = val[a:a+w]\n",
    "        plt.plot(range(a, a+w), a_shape, color=c, lw=2, alpha=0.7)\n",
    "\n",
    "    plt.show()\n",
    "    plt.savefig('anamaly.pdf', bbox_inches='tight')"
   ]
  },
  {
   "cell_type": "markdown",
   "id": "unnecessary-powder",
   "metadata": {},
   "source": [
    "# gyro_x"
   ]
  },
  {
   "cell_type": "code",
   "execution_count": null,
   "id": "experimental-mongolia",
   "metadata": {},
   "outputs": [],
   "source": [
    "ts_walking_val_gx = df_ts.loc[df_ts['activity']=='WALKING']['gyro_x'].values\n",
    "ts_walking_ind_gx = df_ts.loc[df_ts['activity']=='WALKING']['gyro_x'].index\n",
    "\n",
    "ts_walkingup_val_gx = df_ts.loc[df_ts['activity']=='WALKING_UPSTAIRS']['gyro_x'].values\n",
    "ts_walkingup_ind_gx = df_ts.loc[df_ts['activity']=='WALKING_UPSTAIRS']['gyro_x'].index\n",
    "\n",
    "ts_walkingdown_val_gx = df_ts.loc[df_ts['activity']=='WALKING_DOWNSTAIRS']['gyro_x'].values\n",
    "ts_walkingdown_ind_gx = df_ts.loc[df_ts['activity']=='WALKING_DOWNSTAIRS']['gyro_x'].index\n",
    "\n",
    "ts_sitting_val_gx = df_ts.loc[df_ts['activity']=='SITTING']['gyro_x'].values\n",
    "ts_sitting_ind_gx = df_ts.loc[df_ts['activity']=='SITTING']['gyro_x'].index\n",
    "\n",
    "ts_standing_val_gx = df_ts.loc[df_ts['activity']=='STANDING']['gyro_x'].values\n",
    "ts_standing_ind_gx = df_ts.loc[df_ts['activity']=='STANDING']['gyro_x'].index"
   ]
  },
  {
   "cell_type": "code",
   "execution_count": null,
   "id": "communist-mercy",
   "metadata": {},
   "outputs": [],
   "source": [
    "ts_array = []\n",
    "for timeseries in ts_walkingup_val_gx:\n",
    "    ts_array.append(timeseries[2000:2500])\n",
    "\n",
    "from matrixprofile import *\n",
    "\n",
    "mp_walk = []\n",
    "mpi_walk = []\n",
    "\n",
    "for val, idd,sub in zip(ts_array, ts_walkingup_ind_gx, subj):\n",
    "    plt.figure(figsize=(12,1))\n",
    "    w = 10\n",
    "    mpw, mpiw = matrixProfile.stomp(val, w)\n",
    "    mp_walk.append(mpw)\n",
    "    mpi_walk.append(mpiw)\n",
    "    plt.title(\"BODY_X Walking upstairs SUBJ {} \".format(sub))\n",
    "    plt.xlabel('frequency [Hz]')\n",
    "    plt.plot(mpw)\n",
    "    plt.show()\n",
    "    "
   ]
  },
  {
   "cell_type": "code",
   "execution_count": null,
   "id": "committed-prerequisite",
   "metadata": {},
   "outputs": [],
   "source": [
    "for val, mp, mpi, idd, sub in zip(ts_array, mp_walk, mpi_walk,ts_walkingup_ind_gx , subj):\n",
    "    mo, mod  = motifs.motifs(val, (mp, mpi), max_motifs=5)\n",
    "    plt.figure(figsize=(12,1))\n",
    "    plt.plot(val,alpha=0.5)\n",
    "    colors = ['#1f77b4', '#ff7f0e', '#2ca02c', '#d62728', '#9467bd', '#8c564b', '#e377c2', '#7f7f7f', '#bcbd22', '#17becf'][:len(mo)]\n",
    "    for m, d, c in zip(mo, mod, colors):\n",
    "        for i in m:\n",
    "            m_shape = val[i:i+w]\n",
    "            plt.title(\"Gyro_X Walking upstairs SUBJ {}\".format(sub))\n",
    "            plt.xlabel('frequency [Hz]')\n",
    "            plt.plot(range(i,i+w), m_shape, color=c, lw=2, alpha=1)\n",
    "\n",
    "    plt.show()"
   ]
  },
  {
   "cell_type": "code",
   "execution_count": null,
   "id": "elegant-notice",
   "metadata": {},
   "outputs": [],
   "source": [
    "fig, ax = plt.subplots(2, 1,figsize=(15,5))\n",
    "\n",
    "w = 10\n",
    "mp, mpi = matrixProfile.stomp(ts_array[16], w) #motif da scegliere insieme\n",
    "mo, mod  = motifs.motifs(ts_array[16], (mp, mpi), max_motifs=5)\n",
    "\n",
    "ax[0].plot(ts_array[16],alpha=0.7)\n",
    "colors = ['#1f77b4', '#ff7f0e', '#2ca02c', '#d62728', '#9467bd', '#8c564b', '#e377c2', '#7f7f7f', '#bcbd22', '#17becf'][:len(mo)]\n",
    "for m, d, c , sub in zip(mo, mod, colors,subj):\n",
    "    for i in m:\n",
    "        m_shape = ts_array[16][i:i+w]\n",
    "        ax[0].set_title(\"Body_gyro_X Motifs - Walking upstairs - subject 26 \")\n",
    "        ax[0].plot(range(i,i+w), m_shape, color=c, lw=2, alpha=0.9)\n",
    "\n",
    "\n",
    "color = 'tab:red'\n",
    "ax[1].set_title('Body_gyro_X Matrix Profile - Walking upstairs - subject 26')\n",
    "ax[1].set_xlabel('Frequency [Hz]')\n",
    "ax[1].plot(mp, color=color, alpha=0.8)\n",
    "\n",
    "fig.tight_layout()\n",
    "\n",
    "#ax[1].figure.savefig('motifs gyro x walking upstairs.pdf', bbox_inches='tight')"
   ]
  },
  {
   "cell_type": "markdown",
   "id": "greatest-interim",
   "metadata": {},
   "source": [
    "# gyro y"
   ]
  },
  {
   "cell_type": "code",
   "execution_count": null,
   "id": "animated-vacuum",
   "metadata": {},
   "outputs": [],
   "source": [
    "ts_walking_val_gy = df_ts.loc[df_ts['activity']=='WALKING']['gyro_y'].values\n",
    "ts_walking_ind_gy = df_ts.loc[df_ts['activity']=='WALKING']['gyro_y'].index\n",
    "\n",
    "ts_walkingup_val_gy = df_ts.loc[df_ts['activity']=='WALKING_UPSTAIRS']['gyro_y'].values\n",
    "ts_walkingup_ind_gy = df_ts.loc[df_ts['activity']=='WALKING_UPSTAIRS']['gyro_y'].index\n",
    "\n",
    "ts_walkingdown_val_gy = df_ts.loc[df_ts['activity']=='WALKING_DOWNSTAIRS']['gyro_y'].values\n",
    "ts_walkingdown_ind_gy = df_ts.loc[df_ts['activity']=='WALKING_DOWNSTAIRS']['gyro_y'].index\n",
    "\n",
    "ts_sitting_val_gy = df_ts.loc[df_ts['activity']=='SITTING']['gyro_y'].values\n",
    "ts_sitting_ind_gx = df_ts.loc[df_ts['activity']=='SITTING']['gyro_y'].index\n",
    "\n",
    "ts_standing_val_gy = df_ts.loc[df_ts['activity']=='STANDING']['gyro_y'].values\n",
    "ts_standing_ind_gy = df_ts.loc[df_ts['activity']=='STANDING']['gyro_y'].index"
   ]
  },
  {
   "cell_type": "code",
   "execution_count": null,
   "id": "finnish-ballot",
   "metadata": {},
   "outputs": [],
   "source": [
    "ts_array = []\n",
    "for timeseries in ts_walkingup_val_gy:\n",
    "    ts_array.append(timeseries[2000:2500])\n",
    "\n",
    "from matrixprofile import *\n",
    "\n",
    "mp_walk = []\n",
    "mpi_walk = []\n",
    "\n",
    "for val, idd,sub in zip(ts_array, ts_walkingup_ind_gy, subj):\n",
    "    plt.figure(figsize=(12,1))\n",
    "    w = 10\n",
    "    mpw, mpiw = matrixProfile.stomp(val, w)\n",
    "    mp_walk.append(mpw)\n",
    "    mpi_walk.append(mpiw)\n",
    "    plt.title(\"BODY_X Walking upstairs SUBJ {} \".format(sub))\n",
    "    plt.xlabel('frequency [Hz]')\n",
    "    plt.plot(mpw)\n",
    "    plt.show()\n",
    "    "
   ]
  },
  {
   "cell_type": "code",
   "execution_count": null,
   "id": "premium-sunday",
   "metadata": {},
   "outputs": [],
   "source": [
    "for val, mp, mpi, idd, sub in zip(ts_array, mp_walk, mpi_walk,ts_walkingup_ind_gy , subj):\n",
    "    mo, mod  = motifs.motifs(val, (mp, mpi), max_motifs=5)\n",
    "    plt.figure(figsize=(12,1))\n",
    "    plt.plot(val,alpha=0.5)\n",
    "    colors = ['#1f77b4', '#ff7f0e', '#2ca02c', '#d62728', '#9467bd', '#8c564b', '#e377c2', '#7f7f7f', '#bcbd22', '#17becf'][:len(mo)]\n",
    "    for m, d, c in zip(mo, mod, colors):\n",
    "        for i in m:\n",
    "            m_shape = val[i:i+w]\n",
    "            plt.title(\"Gyro_X Walking upstairs SUBJ {}\".format(sub))\n",
    "            plt.xlabel('frequency [Hz]')\n",
    "            plt.plot(range(i,i+w), m_shape, color=c, lw=2, alpha=1)\n",
    "\n",
    "    plt.show()"
   ]
  },
  {
   "cell_type": "code",
   "execution_count": null,
   "id": "latin-salad",
   "metadata": {},
   "outputs": [],
   "source": [
    "fig, ax = plt.subplots(2, 1,figsize=(15,5))\n",
    "\n",
    "w = 10\n",
    "mp, mpi = matrixProfile.stomp(ts_array[16], w) #motif da scegliere insieme\n",
    "mo, mod  = motifs.motifs(ts_array[16], (mp, mpi), max_motifs=5)\n",
    "\n",
    "ax[0].plot(ts_array[16],alpha=0.7)\n",
    "colors = ['#1f77b4', '#ff7f0e', '#2ca02c', '#d62728', '#9467bd', '#8c564b', '#e377c2', '#7f7f7f', '#bcbd22', '#17becf'][:len(mo)]\n",
    "for m, d, c , sub in zip(mo, mod, colors,subj):\n",
    "    for i in m:\n",
    "        m_shape = ts_array[16][i:i+w]\n",
    "        ax[0].set_title(\"Body_gyro_X Motifs - Walking upstairs - subject 26 \")\n",
    "        ax[0].plot(range(i,i+w), m_shape, color=c, lw=2, alpha=0.9)\n",
    "\n",
    "\n",
    "color = 'tab:red'\n",
    "ax[1].set_title('Body_gyro_X Matrix Profile - Walking upstairs - subject 26')\n",
    "ax[1].set_xlabel('Frequency [Hz]')\n",
    "ax[1].plot(mp, color=color, alpha=0.8)\n",
    "\n",
    "fig.tight_layout()\n",
    "\n",
    "#ax[1].figure.savefig('motifs gyro x walking upstairs.pdf', bbox_inches='tight')"
   ]
  },
  {
   "cell_type": "markdown",
   "id": "cathedral-reserve",
   "metadata": {},
   "source": [
    "# gyro z"
   ]
  },
  {
   "cell_type": "code",
   "execution_count": null,
   "id": "upper-dictionary",
   "metadata": {},
   "outputs": [],
   "source": [
    "ts_walking_val_gz = df_ts.loc[df_ts['activity']=='WALKING']['gyro_z'].values\n",
    "ts_walking_ind_gz = df_ts.loc[df_ts['activity']=='WALKING']['gyro_z'].index\n",
    "\n",
    "ts_walkingup_val_gz = df_ts.loc[df_ts['activity']=='WALKING_UPSTAIRS']['gyro_z'].values\n",
    "ts_walkingup_ind_gz = df_ts.loc[df_ts['activity']=='WALKING_UPSTAIRS']['gyro_z'].index\n",
    "\n",
    "ts_walkingdown_val_gz = df_ts.loc[df_ts['activity']=='WALKING_DOWNSTAIRS']['gyro_z'].values\n",
    "ts_walkingdown_ind_gz = df_ts.loc[df_ts['activity']=='WALKING_DOWNSTAIRS']['gyro_z'].index\n",
    "\n",
    "ts_sitting_val_gz = df_ts.loc[df_ts['activity']=='SITTING']['gyro_z'].values\n",
    "ts_sitting_ind_gz = df_ts.loc[df_ts['activity']=='SITTING']['gyro_z'].index\n",
    "\n",
    "ts_standing_val_gz = df_ts.loc[df_ts['activity']=='STANDING']['gyro_z'].values\n",
    "ts_standing_ind_gz = df_ts.loc[df_ts['activity']=='STANDING']['gyro_z'].index"
   ]
  },
  {
   "cell_type": "code",
   "execution_count": null,
   "id": "perfect-parks",
   "metadata": {},
   "outputs": [],
   "source": [
    "ts_array = []\n",
    "for timeseries in ts_walkingup_val_gz:\n",
    "    ts_array.append(timeseries[2000:2500])\n",
    "\n",
    "from matrixprofile import *\n",
    "\n",
    "mp_walk = []\n",
    "mpi_walk = []\n",
    "\n",
    "for val, idd,sub in zip(ts_array, ts_walkingup_ind_gz, subj):\n",
    "    plt.figure(figsize=(12,1))\n",
    "    w = 10\n",
    "    mpw, mpiw = matrixProfile.stomp(val, w)\n",
    "    mp_walk.append(mpw)\n",
    "    mpi_walk.append(mpiw)\n",
    "    plt.title(\"BODY_X Walking upstairs SUBJ {} \".format(sub))\n",
    "    plt.xlabel('frequency [Hz]')\n",
    "    plt.plot(mpw)\n",
    "    plt.show()\n",
    "    "
   ]
  },
  {
   "cell_type": "code",
   "execution_count": null,
   "id": "backed-murder",
   "metadata": {},
   "outputs": [],
   "source": [
    "for val, mp, mpi, idd, sub in zip(ts_array, mp_walk, mpi_walk,ts_walkingup_ind_gz , subj):\n",
    "    mo, mod  = motifs.motifs(val, (mp, mpi), max_motifs=5)\n",
    "    plt.figure(figsize=(12,1))\n",
    "    plt.plot(val,alpha=0.5)\n",
    "    colors = ['#1f77b4', '#ff7f0e', '#2ca02c', '#d62728', '#9467bd', '#8c564b', '#e377c2', '#7f7f7f', '#bcbd22', '#17becf'][:len(mo)]\n",
    "    for m, d, c in zip(mo, mod, colors):\n",
    "        for i in m:\n",
    "            m_shape = val[i:i+w]\n",
    "            plt.title(\"Gyro_X Walking upstairs SUBJ {}\".format(sub))\n",
    "            plt.xlabel('frequency [Hz]')\n",
    "            plt.plot(range(i,i+w), m_shape, color=c, lw=2, alpha=1)\n",
    "\n",
    "    plt.show()"
   ]
  },
  {
   "cell_type": "code",
   "execution_count": null,
   "id": "technological-member",
   "metadata": {},
   "outputs": [],
   "source": [
    "fig, ax = plt.subplots(2, 1,figsize=(15,5))\n",
    "\n",
    "w = 10\n",
    "mp, mpi = matrixProfile.stomp(ts_array[16], w) #motif da scegliere insieme\n",
    "mo, mod  = motifs.motifs(ts_array[16], (mp, mpi), max_motifs=5)\n",
    "\n",
    "ax[0].plot(ts_array[16],alpha=0.7)\n",
    "colors = ['#1f77b4', '#ff7f0e', '#2ca02c', '#d62728', '#9467bd', '#8c564b', '#e377c2', '#7f7f7f', '#bcbd22', '#17becf'][:len(mo)]\n",
    "for m, d, c , sub in zip(mo, mod, colors,subj):\n",
    "    for i in m:\n",
    "        m_shape = ts_array[16][i:i+w]\n",
    "        ax[0].set_title(\"Body_gyro_Z Motifs - Walking upstairs - subject 26 \")\n",
    "        ax[0].plot(range(i,i+w), m_shape, color=c, lw=2, alpha=0.9)\n",
    "\n",
    "\n",
    "color = 'tab:red'\n",
    "ax[1].set_title('Body_gyro_Z Matrix Profile - Walking upstairs - subject 26')\n",
    "ax[1].set_xlabel('Frequency [Hz]')\n",
    "ax[1].plot(mp, color=color, alpha=0.8)\n",
    "\n",
    "fig.tight_layout()\n",
    "\n",
    "ax[1].figure.savefig('motifs gyro z walking upstairs.pdf', bbox_inches='tight')"
   ]
  },
  {
   "cell_type": "markdown",
   "id": "digital-class",
   "metadata": {},
   "source": [
    "#  body y"
   ]
  },
  {
   "cell_type": "code",
   "execution_count": null,
   "id": "physical-dominant",
   "metadata": {},
   "outputs": [],
   "source": []
  },
  {
   "cell_type": "code",
   "execution_count": null,
   "id": "elementary-status",
   "metadata": {},
   "outputs": [],
   "source": []
  },
  {
   "cell_type": "code",
   "execution_count": null,
   "id": "grand-tobacco",
   "metadata": {},
   "outputs": [],
   "source": []
  },
  {
   "cell_type": "markdown",
   "id": "meaning-closure",
   "metadata": {},
   "source": [
    "# body z"
   ]
  },
  {
   "cell_type": "code",
   "execution_count": null,
   "id": "according-apparel",
   "metadata": {},
   "outputs": [],
   "source": []
  }
 ],
 "metadata": {
  "kernelspec": {
   "display_name": "Python 3",
   "language": "python",
   "name": "python3"
  },
  "language_info": {
   "codemirror_mode": {
    "name": "ipython",
    "version": 3
   },
   "file_extension": ".py",
   "mimetype": "text/x-python",
   "name": "python",
   "nbconvert_exporter": "python",
   "pygments_lexer": "ipython3",
   "version": "3.8.5"
  }
 },
 "nbformat": 4,
 "nbformat_minor": 5
}
